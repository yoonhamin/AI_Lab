{
 "cells": [
  {
   "cell_type": "code",
   "execution_count": 1,
   "id": "bc835293",
   "metadata": {},
   "outputs": [
    {
     "name": "stdout",
     "output_type": "stream",
     "text": [
      "PyTorch is successfully imported!\n",
      "PyTorch version: 2.5.1\n",
      "Using device: cuda\n",
      "CUDA is available! Device count: 1\n",
      "Current CUDA device: NVIDIA GeForce RTX 4070 Ti\n",
      "Test tensor created: tensor([1, 2, 3, 4, 5], device='cuda:0')\n",
      "Tensor shape: torch.Size([5])\n",
      "Tensor device: cuda:0\n",
      "Basic operation test (squaring): tensor([ 1,  4,  9, 16, 25], device='cuda:0')\n",
      "Tensor device after operation: cuda:0\n",
      "\n",
      "PyTorch is working correctly!\n"
     ]
    }
   ],
   "source": [
    "# Check if PyTorch is available and import it\n",
    "try:\n",
    "    import torch\n",
    "\n",
    "    print(\"PyTorch is successfully imported!\")\n",
    "    print(f\"PyTorch version: {torch.__version__}\")\n",
    "\n",
    "    # Set device to GPU if available, else CPU\n",
    "    device = torch.device(\"cuda\" if torch.cuda.is_available() else \"cpu\")\n",
    "    print(f\"Using device: {device}\")\n",
    "\n",
    "    # Check CUDA availability\n",
    "    if torch.cuda.is_available():\n",
    "        print(f\"CUDA is available! Device count: {torch.cuda.device_count()}\")\n",
    "        print(f\"Current CUDA device: {torch.cuda.get_device_name(0)}\")\n",
    "    else:\n",
    "        print(\"CUDA is not available. Using CPU.\")\n",
    "\n",
    "    # Create a tensor directly on the correct device\n",
    "    test_tensor = torch.tensor([1, 2, 3, 4, 5], device=device)\n",
    "    print(f\"Test tensor created: {test_tensor}\")\n",
    "    print(f\"Tensor shape: {test_tensor.shape}\")\n",
    "    print(f\"Tensor device: {test_tensor.device}\")\n",
    "\n",
    "    # Basic tensor operation on the GPU\n",
    "    squared_tensor = test_tensor ** 2\n",
    "    print(f\"Basic operation test (squaring): {squared_tensor}\")\n",
    "    print(f\"Tensor device after operation: {squared_tensor.device}\")\n",
    "\n",
    "    print(\"\\nPyTorch is working correctly!\")\n",
    "\n",
    "except ImportError as e:\n",
    "    print(\"PyTorch is not installed or not available\")\n",
    "    print(f\"Error details: {e}\")\n",
    "    print(\"Please install PyTorch using: pip install torch\")\n",
    "\n",
    "except Exception as e:\n",
    "    print(f\"An error occurred while testing PyTorch: {e}\")\n"
   ]
  },
  {
   "cell_type": "code",
   "execution_count": null,
   "id": "2275afce-7727-4194-a57c-13021d823f94",
   "metadata": {},
   "outputs": [],
   "source": []
  }
 ],
 "metadata": {
  "kernelspec": {
   "display_name": "Python 3 (ipykernel)",
   "language": "python",
   "name": "python3"
  },
  "language_info": {
   "codemirror_mode": {
    "name": "ipython",
    "version": 3
   },
   "file_extension": ".py",
   "mimetype": "text/x-python",
   "name": "python",
   "nbconvert_exporter": "python",
   "pygments_lexer": "ipython3",
   "version": "3.10.18"
  }
 },
 "nbformat": 4,
 "nbformat_minor": 5
}
