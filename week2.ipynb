# Check if PyTorch is available and import it
try:
    import torch

    print("PyTorch is successfully imported!")
    print(f"PyTorch version: {torch.__version__}")

    # Set device to GPU if available, else CPU
    device = torch.device("cuda" if torch.cuda.is_available() else "cpu")
    print(f"Using device: {device}")

    # Check CUDA availability
    if torch.cuda.is_available():
        print(f"CUDA is available! Device count: {torch.cuda.device_count()}")
        print(f"Current CUDA device: {torch.cuda.get_device_name(0)}")
    else:
        print("CUDA is not available. Using CPU.")

    # Create a tensor directly on the correct device
    test_tensor = torch.tensor([1, 2, 3, 4, 5], device=device)
    print(f"Test tensor created: {test_tensor}")
    print(f"Tensor shape: {test_tensor.shape}")
    print(f"Tensor device: {test_tensor.device}")

    # Basic tensor operation on the GPU
    squared_tensor = test_tensor ** 2
    print(f"Basic operation test (squaring): {squared_tensor}")
    print(f"Tensor device after operation: {squared_tensor.device}")

    print("\nPyTorch is working correctly!")

except ImportError as e:
    print("PyTorch is not installed or not available")
    print(f"Error details: {e}")
    print("Please install PyTorch using: pip install torch")

except Exception as e:
    print(f"An error occurred while testing PyTorch: {e}")



#PyTorch is successfully imported!
#PyTorch version: 2.5.1
#Using device: cuda
#CUDA is available! Device count: 1
#Current CUDA device: NVIDIA GeForce RTX 4070 Ti
#Test tensor created: tensor([1, 2, 3, 4, 5], device='cuda:0')
#Tensor shape: torch.Size([5])
#Tensor device: cuda:0
#Basic operation test (squaring): tensor([ 1,  4,  9, 16, 25], device='cuda:0')
#Tensor device after operation: cuda:0
